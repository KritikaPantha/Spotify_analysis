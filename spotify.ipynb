{
  "nbformat": 4,
  "nbformat_minor": 0,
  "metadata": {
    "colab": {
      "provenance": [],
      "authorship_tag": "ABX9TyMRB7u8H9Tg7XOTdJEw/STy",
      "include_colab_link": true
    },
    "kernelspec": {
      "name": "python3",
      "display_name": "Python 3"
    },
    "language_info": {
      "name": "python"
    }
  },
  "cells": [
    {
      "cell_type": "markdown",
      "metadata": {
        "id": "view-in-github",
        "colab_type": "text"
      },
      "source": [
        "<a href=\"https://colab.research.google.com/github/KritikaPantha/Spotify_analysis/blob/main/spotify.ipynb\" target=\"_parent\"><img src=\"https://colab.research.google.com/assets/colab-badge.svg\" alt=\"Open In Colab\"/></a>"
      ]
    },
    {
      "cell_type": "code",
      "source": [
        "pip install pyspark"
      ],
      "metadata": {
        "colab": {
          "base_uri": "https://localhost:8080/"
        },
        "id": "KPa1u0wRAmFa",
        "outputId": "796d6b84-d7e7-46b3-c5ff-4ac78ab822fb"
      },
      "execution_count": 1,
      "outputs": [
        {
          "output_type": "stream",
          "name": "stdout",
          "text": [
            "Requirement already satisfied: pyspark in /usr/local/lib/python3.12/dist-packages (3.5.1)\n",
            "Requirement already satisfied: py4j==0.10.9.7 in /usr/local/lib/python3.12/dist-packages (from pyspark) (0.10.9.7)\n"
          ]
        }
      ]
    },
    {
      "cell_type": "code",
      "source": [
        "from pyspark.sql import SparkSession"
      ],
      "metadata": {
        "id": "0EVjsNz69bp2"
      },
      "execution_count": 2,
      "outputs": []
    },
    {
      "cell_type": "code",
      "source": [
        "spark = SparkSession \\\n",
        "    .builder \\\n",
        "    .appName(\"Python Spark SQL basic example\") \\\n",
        "    .getOrCreate()"
      ],
      "metadata": {
        "id": "ra0Kndnk-L_S"
      },
      "execution_count": 3,
      "outputs": []
    },
    {
      "cell_type": "code",
      "source": [
        "albums_df = spark.read.csv(\"/content/sample_data/albums.csv\", header=True, inferSchema=True)"
      ],
      "metadata": {
        "id": "hCACWdnxNo_q"
      },
      "execution_count": 6,
      "outputs": []
    },
    {
      "cell_type": "code",
      "source": [
        "artists_df = spark.read.csv(\"/content/sample_data/artists.csv\", header=True, inferSchema=True)"
      ],
      "metadata": {
        "id": "eT2ZKL9o2rA8"
      },
      "execution_count": 7,
      "outputs": []
    },
    {
      "cell_type": "code",
      "source": [
        "track_df = spark.read.csv(\"/content/sample_data/track.csv\", header=True, inferSchema=True)"
      ],
      "metadata": {
        "id": "tIYvsBdn2xRv"
      },
      "execution_count": 8,
      "outputs": []
    },
    {
      "cell_type": "code",
      "source": [
        "albums_df.createOrReplaceTempView(\"albums\")"
      ],
      "metadata": {
        "id": "rKqXprfB0SJC"
      },
      "execution_count": 9,
      "outputs": []
    },
    {
      "cell_type": "code",
      "source": [
        "artists_df.createOrReplaceTempView(\"artists\")"
      ],
      "metadata": {
        "id": "sj_ttIfG262c"
      },
      "execution_count": 10,
      "outputs": []
    },
    {
      "cell_type": "code",
      "source": [
        "track_df.createOrReplaceTempView(\"track\")"
      ],
      "metadata": {
        "id": "aqWT9SEl2_ZV"
      },
      "execution_count": 11,
      "outputs": []
    },
    {
      "cell_type": "code",
      "source": [
        "#top ten most popular tracks\n",
        "spark.sql(\"\"\"\n",
        "SELECT a.track_name,t.track_id, a.album_name, t.track_popularity, ar.name AS artist_name\n",
        "FROM track t\n",
        "JOIN albums a ON t.track_id = a.track_id\n",
        "JOIN artists ar ON a.artist_id = ar.id\n",
        "ORDER BY t.track_popularity DESC\n",
        "LIMIT 10\n",
        "\"\"\").show()"
      ],
      "metadata": {
        "colab": {
          "base_uri": "https://localhost:8080/"
        },
        "id": "6Xai3BW53ubl",
        "outputId": "11e637ae-4123-481f-932f-d24c188deb2a"
      },
      "execution_count": 13,
      "outputs": [
        {
          "output_type": "stream",
          "name": "stdout",
          "text": [
            "+--------------------+--------------------+--------------------+----------------+-------------------+\n",
            "|          track_name|            track_id|          album_name|track_popularity|        artist_name|\n",
            "+--------------------+--------------------+--------------------+----------------+-------------------+\n",
            "|Wonderful Christm...|1SV1fxF65n9NhRHp3...|Mccartney Ii (Spe...|              90|     Paul McCartney|\n",
            "|Calm Down (With S...|0WtM2NBVQNNJLh6sc...|Calm Down (With S...|              90|               Rema|\n",
            "|   Say Yes To Heaven|6GGtHZgBycCgGBUhZ...|   Say Yes To Heaven|              89|       Lana Del Rey|\n",
            "|                Numb|2nLtzopw4rPReszdY...|             Meteora|              89|        Linkin Park|\n",
            "|               Creep|70LcF31zb1H0PyJoS...|         Pablo Honey|              89|          Radiohead|\n",
            "|    Treat You Better|3QGsuHI8jO1Rx4JWL...|          Illuminate|              88|       Shawn Mendes|\n",
            "| Young And Beautiful|2nMeu6UenVvwUktBC...| Young And Beautiful|              88|       Lana Del Rey|\n",
            "|There'S Nothing H...|7JJmb5XwzOO8jgpou...| Illuminate (Deluxe)|              88|       Shawn Mendes|\n",
            "|Barulho Do Foguet...|42JNab8NPeCADJ9D3...|Escolhas, Vol. 2 ...|              87|Zé Neto & Cristiano|\n",
            "|          West Coast|5Y6nVaayzitvsD5F7...|Ultraviolence (De...|              86|       Lana Del Rey|\n",
            "+--------------------+--------------------+--------------------+----------------+-------------------+\n",
            "\n"
          ]
        }
      ]
    },
    {
      "cell_type": "code",
      "source": [
        "#albumns with most tracks\n",
        "spark.sql(\"\"\"\n",
        "SELECT a.album_name, COUNT(t.track_id) AS track_count\n",
        "FROM albums a\n",
        "JOIN track t ON a.track_id = t.track_id\n",
        "GROUP BY a.album_name\n",
        "ORDER BY track_count DESC\n",
        "LIMIT 10\n",
        "\"\"\").show()"
      ],
      "metadata": {
        "colab": {
          "base_uri": "https://localhost:8080/"
        },
        "id": "KP8Lfn1DQemY",
        "outputId": "e3a9c1ef-dcd6-4e71-9465-0445e805ce07"
      },
      "execution_count": 18,
      "outputs": [
        {
          "output_type": "stream",
          "name": "stdout",
          "text": [
            "+--------------------+-----------+\n",
            "|          album_name|track_count|\n",
            "+--------------------+-----------+\n",
            "|             Nirvana|        977|\n",
            "|              Action|        527|\n",
            "|          Red Velvet|        434|\n",
            "|              Exodus|        433|\n",
            "|              Future|        368|\n",
            "|               India|        347|\n",
            "|Bach: St. John Pa...|        332|\n",
            "|               Blink|        307|\n",
            "|                 Her|        269|\n",
            "|Bach, J.S.: St. J...|        239|\n",
            "+--------------------+-----------+\n",
            "\n"
          ]
        }
      ]
    },
    {
      "cell_type": "code",
      "source": [
        "#total number of tracks per album\n",
        "spark.sql(\"\"\"\n",
        "SELECT album_name, COUNT(track_id) AS track_count\n",
        "FROM albums\n",
        "GROUP BY album_name\n",
        "ORDER BY track_count DESC\n",
        "LIMIT 10\n",
        "\"\"\").show()"
      ],
      "metadata": {
        "colab": {
          "base_uri": "https://localhost:8080/"
        },
        "id": "64dcaCp1TOQg",
        "outputId": "30ddc17c-5079-4cca-d35c-6f1a4588aaa7"
      },
      "execution_count": 27,
      "outputs": [
        {
          "output_type": "stream",
          "name": "stdout",
          "text": [
            "+--------------------+-----------+\n",
            "|          album_name|track_count|\n",
            "+--------------------+-----------+\n",
            "|             Nirvana|        977|\n",
            "|              Action|        527|\n",
            "|          Red Velvet|        434|\n",
            "|              Exodus|        433|\n",
            "|              Future|        368|\n",
            "|               India|        347|\n",
            "|Bach: St. John Pa...|        332|\n",
            "|               Blink|        307|\n",
            "|                 Her|        269|\n",
            "|Bach, J.S.: St. J...|        239|\n",
            "+--------------------+-----------+\n",
            "\n"
          ]
        }
      ]
    },
    {
      "cell_type": "code",
      "source": [
        "#average track popularity and total tracks per artist and genre\n",
        "spark.sql (\"\"\"\n",
        "SELECT\n",
        "ar.name AS artist_name,\n",
        "ar.genre,\n",
        "ROUND(AVG(t.track_popularity), 2) AS avg_track_popularity,\n",
        "COUNT(t.track_id) AS total_tracks\n",
        "FROM track t\n",
        "JOIN albums a ON t.track_id = a.track_id\n",
        "JOIN artists ar ON a.artist_id = ar.id\n",
        "GROUP BY ar.name, ar.genre\n",
        "ORDER BY avg_track_popularity DESC\n",
        "LIMIT 10\n",
        "\"\"\").show()"
      ],
      "metadata": {
        "colab": {
          "base_uri": "https://localhost:8080/"
        },
        "id": "HTuinNUMTexC",
        "outputId": "02765c56-d5e8-454c-8bc6-3aecb5c15f2c"
      },
      "execution_count": 28,
      "outputs": [
        {
          "output_type": "stream",
          "name": "stdout",
          "text": [
            "+-----------------+------------------+--------------------+------------+\n",
            "|      artist_name|             genre|avg_track_popularity|total_tracks|\n",
            "+-----------------+------------------+--------------------+------------+\n",
            "|             Rema|         afrobeats|                90.0|           1|\n",
            "|         NewJeans|             k-pop|                77.0|           6|\n",
            "|       Young Nudy|           pluggnb|                76.0|           1|\n",
            "|    Jacob Collier|uk alternative pop|                72.0|           1|\n",
            "|Sabrina Carpenter|               pop|                70.0|           1|\n",
            "|           Camilo|     colombian pop|                70.0|           1|\n",
            "|      Holly Macve|   british country|                69.0|           1|\n",
            "|     Proyecto Uno|       latin house|                69.0|           1|\n",
            "|      Sofía Reyes|         latin pop|                69.0|           1|\n",
            "|      Angel Ureta|              NULL|                69.0|           1|\n",
            "+-----------------+------------------+--------------------+------------+\n",
            "\n"
          ]
        }
      ]
    },
    {
      "cell_type": "code",
      "source": [
        "#top 10 artists by followers\n",
        "spark.sql(\"\"\"\n",
        "SELECT name, followers, artist_popularity\n",
        "FROM artists\n",
        "ORDER BY followers DESC\n",
        "LIMIT 10\n",
        "\"\"\").show()"
      ],
      "metadata": {
        "colab": {
          "base_uri": "https://localhost:8080/"
        },
        "id": "HFmrduAqSDpb",
        "outputId": "6098089e-9dcf-41ec-d504-d85af41ee536"
      },
      "execution_count": 29,
      "outputs": [
        {
          "output_type": "stream",
          "name": "stdout",
          "text": [
            "+-------------+---------+-----------------+\n",
            "|         name|followers|artist_popularity|\n",
            "+-------------+---------+-----------------+\n",
            "|   Ed Sheeran|115998928|               87|\n",
            "| Taylor Swift| 95859165|              100|\n",
            "|Ariana Grande| 95710972|               88|\n",
            "|Billie Eilish| 89996504|               87|\n",
            "|        Drake| 83298497|               95|\n",
            "|       Eminem| 79891173|               89|\n",
            "|    Bad Bunny| 77931484|               95|\n",
            "|   The Weeknd| 75945958|               93|\n",
            "|Justin Bieber| 75112165|               88|\n",
            "|          BTS| 71720409|               85|\n",
            "+-------------+---------+-----------------+\n",
            "\n"
          ]
        }
      ]
    }
  ]
}